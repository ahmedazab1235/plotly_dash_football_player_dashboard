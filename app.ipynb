{
 "cells": [
  {
   "cell_type": "code",
   "execution_count": 3,
   "metadata": {},
   "outputs": [],
   "source": [
    "import dash\n",
    "import dash_html_components as html\n",
    "import dash_core_components as dcc\n",
    "\n",
    "from dash.dependencies import Input, Output , State\n",
    "\n",
    "\n",
    "import plotly.express as px\n",
    "import pandas as pd\n",
    "import dash_bootstrap_components as dbc\n",
    "import plotly.graph_objects as go\n"
   ]
  },
  {
   "cell_type": "code",
   "execution_count": 4,
   "metadata": {},
   "outputs": [],
   "source": [
    "#df = pd.read_csv(\"data.csv\")\n",
    "\n",
    "df = pd.read_csv(\"players_21.csv\")"
   ]
  },
  {
   "cell_type": "code",
   "execution_count": 5,
   "metadata": {},
   "outputs": [
    {
     "data": {
      "text/html": [
       "<div>\n",
       "<style scoped>\n",
       "    .dataframe tbody tr th:only-of-type {\n",
       "        vertical-align: middle;\n",
       "    }\n",
       "\n",
       "    .dataframe tbody tr th {\n",
       "        vertical-align: top;\n",
       "    }\n",
       "\n",
       "    .dataframe thead th {\n",
       "        text-align: right;\n",
       "    }\n",
       "</style>\n",
       "<table border=\"1\" class=\"dataframe\">\n",
       "  <thead>\n",
       "    <tr style=\"text-align: right;\">\n",
       "      <th></th>\n",
       "      <th>sofifa_id</th>\n",
       "      <th>player_url</th>\n",
       "      <th>short_name</th>\n",
       "      <th>long_name</th>\n",
       "      <th>age</th>\n",
       "      <th>dob</th>\n",
       "      <th>height_cm</th>\n",
       "      <th>weight_kg</th>\n",
       "      <th>nationality</th>\n",
       "      <th>club_name</th>\n",
       "      <th>...</th>\n",
       "      <th>lwb</th>\n",
       "      <th>ldm</th>\n",
       "      <th>cdm</th>\n",
       "      <th>rdm</th>\n",
       "      <th>rwb</th>\n",
       "      <th>lb</th>\n",
       "      <th>lcb</th>\n",
       "      <th>cb</th>\n",
       "      <th>rcb</th>\n",
       "      <th>rb</th>\n",
       "    </tr>\n",
       "  </thead>\n",
       "  <tbody>\n",
       "    <tr>\n",
       "      <th>0</th>\n",
       "      <td>158023</td>\n",
       "      <td>https://sofifa.com/player/158023/lionel-messi/...</td>\n",
       "      <td>L. Messi</td>\n",
       "      <td>Lionel Andrés Messi Cuccittini</td>\n",
       "      <td>33</td>\n",
       "      <td>1987-06-24</td>\n",
       "      <td>170</td>\n",
       "      <td>72</td>\n",
       "      <td>Argentina</td>\n",
       "      <td>FC Barcelona</td>\n",
       "      <td>...</td>\n",
       "      <td>66+3</td>\n",
       "      <td>65+3</td>\n",
       "      <td>65+3</td>\n",
       "      <td>65+3</td>\n",
       "      <td>66+3</td>\n",
       "      <td>62+3</td>\n",
       "      <td>52+3</td>\n",
       "      <td>52+3</td>\n",
       "      <td>52+3</td>\n",
       "      <td>62+3</td>\n",
       "    </tr>\n",
       "    <tr>\n",
       "      <th>1</th>\n",
       "      <td>20801</td>\n",
       "      <td>https://sofifa.com/player/20801/c-ronaldo-dos-...</td>\n",
       "      <td>Cristiano Ronaldo</td>\n",
       "      <td>Cristiano Ronaldo dos Santos Aveiro</td>\n",
       "      <td>35</td>\n",
       "      <td>1985-02-05</td>\n",
       "      <td>187</td>\n",
       "      <td>83</td>\n",
       "      <td>Portugal</td>\n",
       "      <td>Juventus</td>\n",
       "      <td>...</td>\n",
       "      <td>65+3</td>\n",
       "      <td>61+3</td>\n",
       "      <td>61+3</td>\n",
       "      <td>61+3</td>\n",
       "      <td>65+3</td>\n",
       "      <td>61+3</td>\n",
       "      <td>54+3</td>\n",
       "      <td>54+3</td>\n",
       "      <td>54+3</td>\n",
       "      <td>61+3</td>\n",
       "    </tr>\n",
       "    <tr>\n",
       "      <th>2</th>\n",
       "      <td>200389</td>\n",
       "      <td>https://sofifa.com/player/200389/jan-oblak/210002</td>\n",
       "      <td>J. Oblak</td>\n",
       "      <td>Jan Oblak</td>\n",
       "      <td>27</td>\n",
       "      <td>1993-01-07</td>\n",
       "      <td>188</td>\n",
       "      <td>87</td>\n",
       "      <td>Slovenia</td>\n",
       "      <td>Atlético Madrid</td>\n",
       "      <td>...</td>\n",
       "      <td>32+3</td>\n",
       "      <td>36+3</td>\n",
       "      <td>36+3</td>\n",
       "      <td>36+3</td>\n",
       "      <td>32+3</td>\n",
       "      <td>32+3</td>\n",
       "      <td>33+3</td>\n",
       "      <td>33+3</td>\n",
       "      <td>33+3</td>\n",
       "      <td>32+3</td>\n",
       "    </tr>\n",
       "    <tr>\n",
       "      <th>3</th>\n",
       "      <td>188545</td>\n",
       "      <td>https://sofifa.com/player/188545/robert-lewand...</td>\n",
       "      <td>R. Lewandowski</td>\n",
       "      <td>Robert Lewandowski</td>\n",
       "      <td>31</td>\n",
       "      <td>1988-08-21</td>\n",
       "      <td>184</td>\n",
       "      <td>80</td>\n",
       "      <td>Poland</td>\n",
       "      <td>FC Bayern München</td>\n",
       "      <td>...</td>\n",
       "      <td>64+3</td>\n",
       "      <td>65+3</td>\n",
       "      <td>65+3</td>\n",
       "      <td>65+3</td>\n",
       "      <td>64+3</td>\n",
       "      <td>61+3</td>\n",
       "      <td>60+3</td>\n",
       "      <td>60+3</td>\n",
       "      <td>60+3</td>\n",
       "      <td>61+3</td>\n",
       "    </tr>\n",
       "    <tr>\n",
       "      <th>4</th>\n",
       "      <td>190871</td>\n",
       "      <td>https://sofifa.com/player/190871/neymar-da-sil...</td>\n",
       "      <td>Neymar Jr</td>\n",
       "      <td>Neymar da Silva Santos Júnior</td>\n",
       "      <td>28</td>\n",
       "      <td>1992-02-05</td>\n",
       "      <td>175</td>\n",
       "      <td>68</td>\n",
       "      <td>Brazil</td>\n",
       "      <td>Paris Saint-Germain</td>\n",
       "      <td>...</td>\n",
       "      <td>67+3</td>\n",
       "      <td>62+3</td>\n",
       "      <td>62+3</td>\n",
       "      <td>62+3</td>\n",
       "      <td>67+3</td>\n",
       "      <td>62+3</td>\n",
       "      <td>49+3</td>\n",
       "      <td>49+3</td>\n",
       "      <td>49+3</td>\n",
       "      <td>62+3</td>\n",
       "    </tr>\n",
       "    <tr>\n",
       "      <th>...</th>\n",
       "      <td>...</td>\n",
       "      <td>...</td>\n",
       "      <td>...</td>\n",
       "      <td>...</td>\n",
       "      <td>...</td>\n",
       "      <td>...</td>\n",
       "      <td>...</td>\n",
       "      <td>...</td>\n",
       "      <td>...</td>\n",
       "      <td>...</td>\n",
       "      <td>...</td>\n",
       "      <td>...</td>\n",
       "      <td>...</td>\n",
       "      <td>...</td>\n",
       "      <td>...</td>\n",
       "      <td>...</td>\n",
       "      <td>...</td>\n",
       "      <td>...</td>\n",
       "      <td>...</td>\n",
       "      <td>...</td>\n",
       "      <td>...</td>\n",
       "    </tr>\n",
       "    <tr>\n",
       "      <th>18939</th>\n",
       "      <td>256679</td>\n",
       "      <td>https://sofifa.com/player/256679/kevin-angulo/...</td>\n",
       "      <td>K. Angulo</td>\n",
       "      <td>Kevin Angulo</td>\n",
       "      <td>24</td>\n",
       "      <td>1996-04-13</td>\n",
       "      <td>176</td>\n",
       "      <td>73</td>\n",
       "      <td>Colombia</td>\n",
       "      <td>América de Cali</td>\n",
       "      <td>...</td>\n",
       "      <td>47+2</td>\n",
       "      <td>47+2</td>\n",
       "      <td>47+2</td>\n",
       "      <td>47+2</td>\n",
       "      <td>47+2</td>\n",
       "      <td>47+2</td>\n",
       "      <td>46+2</td>\n",
       "      <td>46+2</td>\n",
       "      <td>46+2</td>\n",
       "      <td>47+2</td>\n",
       "    </tr>\n",
       "    <tr>\n",
       "      <th>18940</th>\n",
       "      <td>257710</td>\n",
       "      <td>https://sofifa.com/player/257710/mengxuan-zhan...</td>\n",
       "      <td>Zhang Mengxuan</td>\n",
       "      <td>Mengxuan Zhang</td>\n",
       "      <td>21</td>\n",
       "      <td>1999-04-26</td>\n",
       "      <td>177</td>\n",
       "      <td>70</td>\n",
       "      <td>China PR</td>\n",
       "      <td>Chongqing Dangdai Lifan FC SWM Team</td>\n",
       "      <td>...</td>\n",
       "      <td>42+2</td>\n",
       "      <td>41+2</td>\n",
       "      <td>41+2</td>\n",
       "      <td>41+2</td>\n",
       "      <td>42+2</td>\n",
       "      <td>45+2</td>\n",
       "      <td>47+2</td>\n",
       "      <td>47+2</td>\n",
       "      <td>47+2</td>\n",
       "      <td>45+2</td>\n",
       "    </tr>\n",
       "    <tr>\n",
       "      <th>18941</th>\n",
       "      <td>250989</td>\n",
       "      <td>https://sofifa.com/player/250989/zhenghao-wang...</td>\n",
       "      <td>Wang Zhenghao</td>\n",
       "      <td>王政豪</td>\n",
       "      <td>20</td>\n",
       "      <td>2000-06-28</td>\n",
       "      <td>185</td>\n",
       "      <td>74</td>\n",
       "      <td>China PR</td>\n",
       "      <td>Tianjin TEDA FC</td>\n",
       "      <td>...</td>\n",
       "      <td>42+2</td>\n",
       "      <td>42+2</td>\n",
       "      <td>42+2</td>\n",
       "      <td>42+2</td>\n",
       "      <td>42+2</td>\n",
       "      <td>44+2</td>\n",
       "      <td>47+2</td>\n",
       "      <td>47+2</td>\n",
       "      <td>47+2</td>\n",
       "      <td>44+2</td>\n",
       "    </tr>\n",
       "    <tr>\n",
       "      <th>18942</th>\n",
       "      <td>257697</td>\n",
       "      <td>https://sofifa.com/player/257697/zitong-chen/2...</td>\n",
       "      <td>Chen Zitong</td>\n",
       "      <td>Zitong Chen</td>\n",
       "      <td>23</td>\n",
       "      <td>1997-02-20</td>\n",
       "      <td>186</td>\n",
       "      <td>80</td>\n",
       "      <td>China PR</td>\n",
       "      <td>Shijiazhuang Ever Bright F.C.</td>\n",
       "      <td>...</td>\n",
       "      <td>47+2</td>\n",
       "      <td>49+2</td>\n",
       "      <td>49+2</td>\n",
       "      <td>49+2</td>\n",
       "      <td>47+2</td>\n",
       "      <td>47+2</td>\n",
       "      <td>49+2</td>\n",
       "      <td>49+2</td>\n",
       "      <td>49+2</td>\n",
       "      <td>47+2</td>\n",
       "    </tr>\n",
       "    <tr>\n",
       "      <th>18943</th>\n",
       "      <td>257936</td>\n",
       "      <td>https://sofifa.com/player/257936/yue-song/210002</td>\n",
       "      <td>Song Yue</td>\n",
       "      <td>Yue Song</td>\n",
       "      <td>28</td>\n",
       "      <td>1991-11-20</td>\n",
       "      <td>185</td>\n",
       "      <td>79</td>\n",
       "      <td>China PR</td>\n",
       "      <td>Tianjin TEDA FC</td>\n",
       "      <td>...</td>\n",
       "      <td>47+0</td>\n",
       "      <td>47+0</td>\n",
       "      <td>47+0</td>\n",
       "      <td>47+0</td>\n",
       "      <td>47+0</td>\n",
       "      <td>47+0</td>\n",
       "      <td>46+1</td>\n",
       "      <td>46+1</td>\n",
       "      <td>46+1</td>\n",
       "      <td>47+0</td>\n",
       "    </tr>\n",
       "  </tbody>\n",
       "</table>\n",
       "<p>18944 rows × 106 columns</p>\n",
       "</div>"
      ],
      "text/plain": [
       "       sofifa_id                                         player_url  \\\n",
       "0         158023  https://sofifa.com/player/158023/lionel-messi/...   \n",
       "1          20801  https://sofifa.com/player/20801/c-ronaldo-dos-...   \n",
       "2         200389  https://sofifa.com/player/200389/jan-oblak/210002   \n",
       "3         188545  https://sofifa.com/player/188545/robert-lewand...   \n",
       "4         190871  https://sofifa.com/player/190871/neymar-da-sil...   \n",
       "...          ...                                                ...   \n",
       "18939     256679  https://sofifa.com/player/256679/kevin-angulo/...   \n",
       "18940     257710  https://sofifa.com/player/257710/mengxuan-zhan...   \n",
       "18941     250989  https://sofifa.com/player/250989/zhenghao-wang...   \n",
       "18942     257697  https://sofifa.com/player/257697/zitong-chen/2...   \n",
       "18943     257936   https://sofifa.com/player/257936/yue-song/210002   \n",
       "\n",
       "              short_name                            long_name  age  \\\n",
       "0               L. Messi       Lionel Andrés Messi Cuccittini   33   \n",
       "1      Cristiano Ronaldo  Cristiano Ronaldo dos Santos Aveiro   35   \n",
       "2               J. Oblak                            Jan Oblak   27   \n",
       "3         R. Lewandowski                   Robert Lewandowski   31   \n",
       "4              Neymar Jr        Neymar da Silva Santos Júnior   28   \n",
       "...                  ...                                  ...  ...   \n",
       "18939          K. Angulo                         Kevin Angulo   24   \n",
       "18940     Zhang Mengxuan                       Mengxuan Zhang   21   \n",
       "18941      Wang Zhenghao                                  王政豪   20   \n",
       "18942        Chen Zitong                          Zitong Chen   23   \n",
       "18943           Song Yue                             Yue Song   28   \n",
       "\n",
       "              dob  height_cm  weight_kg nationality  \\\n",
       "0      1987-06-24        170         72   Argentina   \n",
       "1      1985-02-05        187         83    Portugal   \n",
       "2      1993-01-07        188         87    Slovenia   \n",
       "3      1988-08-21        184         80      Poland   \n",
       "4      1992-02-05        175         68      Brazil   \n",
       "...           ...        ...        ...         ...   \n",
       "18939  1996-04-13        176         73    Colombia   \n",
       "18940  1999-04-26        177         70    China PR   \n",
       "18941  2000-06-28        185         74    China PR   \n",
       "18942  1997-02-20        186         80    China PR   \n",
       "18943  1991-11-20        185         79    China PR   \n",
       "\n",
       "                                 club_name  ...   lwb   ldm   cdm   rdm   rwb  \\\n",
       "0                             FC Barcelona  ...  66+3  65+3  65+3  65+3  66+3   \n",
       "1                                 Juventus  ...  65+3  61+3  61+3  61+3  65+3   \n",
       "2                          Atlético Madrid  ...  32+3  36+3  36+3  36+3  32+3   \n",
       "3                        FC Bayern München  ...  64+3  65+3  65+3  65+3  64+3   \n",
       "4                      Paris Saint-Germain  ...  67+3  62+3  62+3  62+3  67+3   \n",
       "...                                    ...  ...   ...   ...   ...   ...   ...   \n",
       "18939                      América de Cali  ...  47+2  47+2  47+2  47+2  47+2   \n",
       "18940  Chongqing Dangdai Lifan FC SWM Team  ...  42+2  41+2  41+2  41+2  42+2   \n",
       "18941                      Tianjin TEDA FC  ...  42+2  42+2  42+2  42+2  42+2   \n",
       "18942        Shijiazhuang Ever Bright F.C.  ...  47+2  49+2  49+2  49+2  47+2   \n",
       "18943                      Tianjin TEDA FC  ...  47+0  47+0  47+0  47+0  47+0   \n",
       "\n",
       "         lb   lcb    cb   rcb    rb  \n",
       "0      62+3  52+3  52+3  52+3  62+3  \n",
       "1      61+3  54+3  54+3  54+3  61+3  \n",
       "2      32+3  33+3  33+3  33+3  32+3  \n",
       "3      61+3  60+3  60+3  60+3  61+3  \n",
       "4      62+3  49+3  49+3  49+3  62+3  \n",
       "...     ...   ...   ...   ...   ...  \n",
       "18939  47+2  46+2  46+2  46+2  47+2  \n",
       "18940  45+2  47+2  47+2  47+2  45+2  \n",
       "18941  44+2  47+2  47+2  47+2  44+2  \n",
       "18942  47+2  49+2  49+2  49+2  47+2  \n",
       "18943  47+0  46+1  46+1  46+1  47+0  \n",
       "\n",
       "[18944 rows x 106 columns]"
      ]
     },
     "execution_count": 5,
     "metadata": {},
     "output_type": "execute_result"
    }
   ],
   "source": [
    "df"
   ]
  },
  {
   "cell_type": "code",
   "execution_count": 6,
   "metadata": {},
   "outputs": [
    {
     "data": {
      "text/plain": [
       "37.0"
      ]
     },
     "execution_count": 6,
     "metadata": {},
     "output_type": "execute_result"
    }
   ],
   "source": [
    "df[df[\"short_name\"] == 'K. Angulo']['shooting'].values[0]"
   ]
  },
  {
   "cell_type": "code",
   "execution_count": 7,
   "metadata": {},
   "outputs": [],
   "source": [
    "import plotly.graph_objects as go\n",
    "\n",
    "def draw(player1, player2):\n",
    "  categories = ['passing', 'shooting', 'pace', 'physic', 'defending', 'dribbling']\n",
    "\n",
    "  fig = go.Figure()\n",
    "\n",
    "\n",
    "  fig.add_trace(go.Scatterpolar(\n",
    "        r=[\n",
    "        df[df[\"short_name\"] == player1]['passing'].values[0],\n",
    "        df[df[\"short_name\"] == player1]['shooting'].values[0],\n",
    "        df[df[\"short_name\"] == player1]['pace'].values[0],\n",
    "        df[df[\"short_name\"] == player1]['physic'].values[0],\n",
    "        df[df[\"short_name\"] == player1]['defending'].values[0],\n",
    "        df[df[\"short_name\"] == player1]['dribbling'].values[0],\n",
    "\n",
    "        ],\n",
    "        theta=categories,\n",
    "        fill='toself',\n",
    "        name=player1,\n",
    "        marker_color=['blue'],\n",
    "    marker_line_color=\"blue\",\n",
    "    marker_line_width=6,\n",
    "    ))\n",
    "\n",
    "  fig.add_trace(go.Scatterpolar(\n",
    "        r=[\n",
    "        df[df[\"short_name\"] == player2]['passing'].values[0],\n",
    "        df[df[\"short_name\"] == player2]['shooting'].values[0],\n",
    "        df[df[\"short_name\"] == player2]['pace'].values[0],\n",
    "        df[df[\"short_name\"] == player2]['physic'].values[0],\n",
    "        df[df[\"short_name\"] == player2]['defending'].values[0],\n",
    "        df[df[\"short_name\"] == player2]['dribbling'].values[0],\n",
    "\n",
    "        ],\n",
    "        theta=categories,\n",
    "        fill='toself',\n",
    "        name=player2,\n",
    "         marker_color=['red'],\n",
    "    marker_line_color=\"red\",\n",
    "    marker_line_width=6,\n",
    "    ))\n",
    "  fig.update_layout(\n",
    "                    polar=dict(\n",
    "                      radialaxis=dict(\n",
    "                        visible=False,\n",
    "                        range=[0, 120]\n",
    "                      )),\n",
    "                    showlegend=True\n",
    "                    )\n",
    "  \n",
    "\n",
    "  return fig"
   ]
  },
  {
   "cell_type": "code",
   "execution_count": 8,
   "metadata": {},
   "outputs": [
    {
     "data": {
      "application/vnd.plotly.v1+json": {
       "config": {
        "plotlyServerURL": "https://plot.ly"
       },
       "data": [
        {
         "fill": "toself",
         "marker": {
          "color": [
           "blue"
          ],
          "line": {
           "color": "blue",
           "width": 6
          }
         },
         "name": "Cristiano Ronaldo",
         "r": [
          81,
          93,
          89,
          77,
          35,
          89
         ],
         "theta": [
          "passing",
          "shooting",
          "pace",
          "physic",
          "defending",
          "dribbling"
         ],
         "type": "scatterpolar"
        },
        {
         "fill": "toself",
         "marker": {
          "color": [
           "red"
          ],
          "line": {
           "color": "red",
           "width": 6
          }
         },
         "name": "Song Yue",
         "r": [
          49,
          37,
          65,
          59,
          40,
          46
         ],
         "theta": [
          "passing",
          "shooting",
          "pace",
          "physic",
          "defending",
          "dribbling"
         ],
         "type": "scatterpolar"
        }
       ],
       "layout": {
        "polar": {
         "radialaxis": {
          "range": [
           0,
           120
          ],
          "visible": false
         }
        },
        "showlegend": true,
        "template": {
         "data": {
          "bar": [
           {
            "error_x": {
             "color": "#2a3f5f"
            },
            "error_y": {
             "color": "#2a3f5f"
            },
            "marker": {
             "line": {
              "color": "#E5ECF6",
              "width": 0.5
             },
             "pattern": {
              "fillmode": "overlay",
              "size": 10,
              "solidity": 0.2
             }
            },
            "type": "bar"
           }
          ],
          "barpolar": [
           {
            "marker": {
             "line": {
              "color": "#E5ECF6",
              "width": 0.5
             },
             "pattern": {
              "fillmode": "overlay",
              "size": 10,
              "solidity": 0.2
             }
            },
            "type": "barpolar"
           }
          ],
          "carpet": [
           {
            "aaxis": {
             "endlinecolor": "#2a3f5f",
             "gridcolor": "white",
             "linecolor": "white",
             "minorgridcolor": "white",
             "startlinecolor": "#2a3f5f"
            },
            "baxis": {
             "endlinecolor": "#2a3f5f",
             "gridcolor": "white",
             "linecolor": "white",
             "minorgridcolor": "white",
             "startlinecolor": "#2a3f5f"
            },
            "type": "carpet"
           }
          ],
          "choropleth": [
           {
            "colorbar": {
             "outlinewidth": 0,
             "ticks": ""
            },
            "type": "choropleth"
           }
          ],
          "contour": [
           {
            "colorbar": {
             "outlinewidth": 0,
             "ticks": ""
            },
            "colorscale": [
             [
              0,
              "#0d0887"
             ],
             [
              0.1111111111111111,
              "#46039f"
             ],
             [
              0.2222222222222222,
              "#7201a8"
             ],
             [
              0.3333333333333333,
              "#9c179e"
             ],
             [
              0.4444444444444444,
              "#bd3786"
             ],
             [
              0.5555555555555556,
              "#d8576b"
             ],
             [
              0.6666666666666666,
              "#ed7953"
             ],
             [
              0.7777777777777778,
              "#fb9f3a"
             ],
             [
              0.8888888888888888,
              "#fdca26"
             ],
             [
              1,
              "#f0f921"
             ]
            ],
            "type": "contour"
           }
          ],
          "contourcarpet": [
           {
            "colorbar": {
             "outlinewidth": 0,
             "ticks": ""
            },
            "type": "contourcarpet"
           }
          ],
          "heatmap": [
           {
            "colorbar": {
             "outlinewidth": 0,
             "ticks": ""
            },
            "colorscale": [
             [
              0,
              "#0d0887"
             ],
             [
              0.1111111111111111,
              "#46039f"
             ],
             [
              0.2222222222222222,
              "#7201a8"
             ],
             [
              0.3333333333333333,
              "#9c179e"
             ],
             [
              0.4444444444444444,
              "#bd3786"
             ],
             [
              0.5555555555555556,
              "#d8576b"
             ],
             [
              0.6666666666666666,
              "#ed7953"
             ],
             [
              0.7777777777777778,
              "#fb9f3a"
             ],
             [
              0.8888888888888888,
              "#fdca26"
             ],
             [
              1,
              "#f0f921"
             ]
            ],
            "type": "heatmap"
           }
          ],
          "heatmapgl": [
           {
            "colorbar": {
             "outlinewidth": 0,
             "ticks": ""
            },
            "colorscale": [
             [
              0,
              "#0d0887"
             ],
             [
              0.1111111111111111,
              "#46039f"
             ],
             [
              0.2222222222222222,
              "#7201a8"
             ],
             [
              0.3333333333333333,
              "#9c179e"
             ],
             [
              0.4444444444444444,
              "#bd3786"
             ],
             [
              0.5555555555555556,
              "#d8576b"
             ],
             [
              0.6666666666666666,
              "#ed7953"
             ],
             [
              0.7777777777777778,
              "#fb9f3a"
             ],
             [
              0.8888888888888888,
              "#fdca26"
             ],
             [
              1,
              "#f0f921"
             ]
            ],
            "type": "heatmapgl"
           }
          ],
          "histogram": [
           {
            "marker": {
             "pattern": {
              "fillmode": "overlay",
              "size": 10,
              "solidity": 0.2
             }
            },
            "type": "histogram"
           }
          ],
          "histogram2d": [
           {
            "colorbar": {
             "outlinewidth": 0,
             "ticks": ""
            },
            "colorscale": [
             [
              0,
              "#0d0887"
             ],
             [
              0.1111111111111111,
              "#46039f"
             ],
             [
              0.2222222222222222,
              "#7201a8"
             ],
             [
              0.3333333333333333,
              "#9c179e"
             ],
             [
              0.4444444444444444,
              "#bd3786"
             ],
             [
              0.5555555555555556,
              "#d8576b"
             ],
             [
              0.6666666666666666,
              "#ed7953"
             ],
             [
              0.7777777777777778,
              "#fb9f3a"
             ],
             [
              0.8888888888888888,
              "#fdca26"
             ],
             [
              1,
              "#f0f921"
             ]
            ],
            "type": "histogram2d"
           }
          ],
          "histogram2dcontour": [
           {
            "colorbar": {
             "outlinewidth": 0,
             "ticks": ""
            },
            "colorscale": [
             [
              0,
              "#0d0887"
             ],
             [
              0.1111111111111111,
              "#46039f"
             ],
             [
              0.2222222222222222,
              "#7201a8"
             ],
             [
              0.3333333333333333,
              "#9c179e"
             ],
             [
              0.4444444444444444,
              "#bd3786"
             ],
             [
              0.5555555555555556,
              "#d8576b"
             ],
             [
              0.6666666666666666,
              "#ed7953"
             ],
             [
              0.7777777777777778,
              "#fb9f3a"
             ],
             [
              0.8888888888888888,
              "#fdca26"
             ],
             [
              1,
              "#f0f921"
             ]
            ],
            "type": "histogram2dcontour"
           }
          ],
          "mesh3d": [
           {
            "colorbar": {
             "outlinewidth": 0,
             "ticks": ""
            },
            "type": "mesh3d"
           }
          ],
          "parcoords": [
           {
            "line": {
             "colorbar": {
              "outlinewidth": 0,
              "ticks": ""
             }
            },
            "type": "parcoords"
           }
          ],
          "pie": [
           {
            "automargin": true,
            "type": "pie"
           }
          ],
          "scatter": [
           {
            "marker": {
             "colorbar": {
              "outlinewidth": 0,
              "ticks": ""
             }
            },
            "type": "scatter"
           }
          ],
          "scatter3d": [
           {
            "line": {
             "colorbar": {
              "outlinewidth": 0,
              "ticks": ""
             }
            },
            "marker": {
             "colorbar": {
              "outlinewidth": 0,
              "ticks": ""
             }
            },
            "type": "scatter3d"
           }
          ],
          "scattercarpet": [
           {
            "marker": {
             "colorbar": {
              "outlinewidth": 0,
              "ticks": ""
             }
            },
            "type": "scattercarpet"
           }
          ],
          "scattergeo": [
           {
            "marker": {
             "colorbar": {
              "outlinewidth": 0,
              "ticks": ""
             }
            },
            "type": "scattergeo"
           }
          ],
          "scattergl": [
           {
            "marker": {
             "colorbar": {
              "outlinewidth": 0,
              "ticks": ""
             }
            },
            "type": "scattergl"
           }
          ],
          "scattermapbox": [
           {
            "marker": {
             "colorbar": {
              "outlinewidth": 0,
              "ticks": ""
             }
            },
            "type": "scattermapbox"
           }
          ],
          "scatterpolar": [
           {
            "marker": {
             "colorbar": {
              "outlinewidth": 0,
              "ticks": ""
             }
            },
            "type": "scatterpolar"
           }
          ],
          "scatterpolargl": [
           {
            "marker": {
             "colorbar": {
              "outlinewidth": 0,
              "ticks": ""
             }
            },
            "type": "scatterpolargl"
           }
          ],
          "scatterternary": [
           {
            "marker": {
             "colorbar": {
              "outlinewidth": 0,
              "ticks": ""
             }
            },
            "type": "scatterternary"
           }
          ],
          "surface": [
           {
            "colorbar": {
             "outlinewidth": 0,
             "ticks": ""
            },
            "colorscale": [
             [
              0,
              "#0d0887"
             ],
             [
              0.1111111111111111,
              "#46039f"
             ],
             [
              0.2222222222222222,
              "#7201a8"
             ],
             [
              0.3333333333333333,
              "#9c179e"
             ],
             [
              0.4444444444444444,
              "#bd3786"
             ],
             [
              0.5555555555555556,
              "#d8576b"
             ],
             [
              0.6666666666666666,
              "#ed7953"
             ],
             [
              0.7777777777777778,
              "#fb9f3a"
             ],
             [
              0.8888888888888888,
              "#fdca26"
             ],
             [
              1,
              "#f0f921"
             ]
            ],
            "type": "surface"
           }
          ],
          "table": [
           {
            "cells": {
             "fill": {
              "color": "#EBF0F8"
             },
             "line": {
              "color": "white"
             }
            },
            "header": {
             "fill": {
              "color": "#C8D4E3"
             },
             "line": {
              "color": "white"
             }
            },
            "type": "table"
           }
          ]
         },
         "layout": {
          "annotationdefaults": {
           "arrowcolor": "#2a3f5f",
           "arrowhead": 0,
           "arrowwidth": 1
          },
          "autotypenumbers": "strict",
          "coloraxis": {
           "colorbar": {
            "outlinewidth": 0,
            "ticks": ""
           }
          },
          "colorscale": {
           "diverging": [
            [
             0,
             "#8e0152"
            ],
            [
             0.1,
             "#c51b7d"
            ],
            [
             0.2,
             "#de77ae"
            ],
            [
             0.3,
             "#f1b6da"
            ],
            [
             0.4,
             "#fde0ef"
            ],
            [
             0.5,
             "#f7f7f7"
            ],
            [
             0.6,
             "#e6f5d0"
            ],
            [
             0.7,
             "#b8e186"
            ],
            [
             0.8,
             "#7fbc41"
            ],
            [
             0.9,
             "#4d9221"
            ],
            [
             1,
             "#276419"
            ]
           ],
           "sequential": [
            [
             0,
             "#0d0887"
            ],
            [
             0.1111111111111111,
             "#46039f"
            ],
            [
             0.2222222222222222,
             "#7201a8"
            ],
            [
             0.3333333333333333,
             "#9c179e"
            ],
            [
             0.4444444444444444,
             "#bd3786"
            ],
            [
             0.5555555555555556,
             "#d8576b"
            ],
            [
             0.6666666666666666,
             "#ed7953"
            ],
            [
             0.7777777777777778,
             "#fb9f3a"
            ],
            [
             0.8888888888888888,
             "#fdca26"
            ],
            [
             1,
             "#f0f921"
            ]
           ],
           "sequentialminus": [
            [
             0,
             "#0d0887"
            ],
            [
             0.1111111111111111,
             "#46039f"
            ],
            [
             0.2222222222222222,
             "#7201a8"
            ],
            [
             0.3333333333333333,
             "#9c179e"
            ],
            [
             0.4444444444444444,
             "#bd3786"
            ],
            [
             0.5555555555555556,
             "#d8576b"
            ],
            [
             0.6666666666666666,
             "#ed7953"
            ],
            [
             0.7777777777777778,
             "#fb9f3a"
            ],
            [
             0.8888888888888888,
             "#fdca26"
            ],
            [
             1,
             "#f0f921"
            ]
           ]
          },
          "colorway": [
           "#636efa",
           "#EF553B",
           "#00cc96",
           "#ab63fa",
           "#FFA15A",
           "#19d3f3",
           "#FF6692",
           "#B6E880",
           "#FF97FF",
           "#FECB52"
          ],
          "font": {
           "color": "#2a3f5f"
          },
          "geo": {
           "bgcolor": "white",
           "lakecolor": "white",
           "landcolor": "#E5ECF6",
           "showlakes": true,
           "showland": true,
           "subunitcolor": "white"
          },
          "hoverlabel": {
           "align": "left"
          },
          "hovermode": "closest",
          "mapbox": {
           "style": "light"
          },
          "paper_bgcolor": "white",
          "plot_bgcolor": "#E5ECF6",
          "polar": {
           "angularaxis": {
            "gridcolor": "white",
            "linecolor": "white",
            "ticks": ""
           },
           "bgcolor": "#E5ECF6",
           "radialaxis": {
            "gridcolor": "white",
            "linecolor": "white",
            "ticks": ""
           }
          },
          "scene": {
           "xaxis": {
            "backgroundcolor": "#E5ECF6",
            "gridcolor": "white",
            "gridwidth": 2,
            "linecolor": "white",
            "showbackground": true,
            "ticks": "",
            "zerolinecolor": "white"
           },
           "yaxis": {
            "backgroundcolor": "#E5ECF6",
            "gridcolor": "white",
            "gridwidth": 2,
            "linecolor": "white",
            "showbackground": true,
            "ticks": "",
            "zerolinecolor": "white"
           },
           "zaxis": {
            "backgroundcolor": "#E5ECF6",
            "gridcolor": "white",
            "gridwidth": 2,
            "linecolor": "white",
            "showbackground": true,
            "ticks": "",
            "zerolinecolor": "white"
           }
          },
          "shapedefaults": {
           "line": {
            "color": "#2a3f5f"
           }
          },
          "ternary": {
           "aaxis": {
            "gridcolor": "white",
            "linecolor": "white",
            "ticks": ""
           },
           "baxis": {
            "gridcolor": "white",
            "linecolor": "white",
            "ticks": ""
           },
           "bgcolor": "#E5ECF6",
           "caxis": {
            "gridcolor": "white",
            "linecolor": "white",
            "ticks": ""
           }
          },
          "title": {
           "x": 0.05
          },
          "xaxis": {
           "automargin": true,
           "gridcolor": "white",
           "linecolor": "white",
           "ticks": "",
           "title": {
            "standoff": 15
           },
           "zerolinecolor": "white",
           "zerolinewidth": 2
          },
          "yaxis": {
           "automargin": true,
           "gridcolor": "white",
           "linecolor": "white",
           "ticks": "",
           "title": {
            "standoff": 15
           },
           "zerolinecolor": "white",
           "zerolinewidth": 2
          }
         }
        }
       }
      }
     },
     "metadata": {},
     "output_type": "display_data"
    }
   ],
   "source": [
    "fig = draw('Cristiano Ronaldo', 'Song Yue')\n",
    "\n",
    "fig.show()"
   ]
  },
  {
   "cell_type": "code",
   "execution_count": 9,
   "metadata": {},
   "outputs": [],
   "source": [
    "app = dash.Dash(external_stylesheets =['https://codepen.io/chriddyp/pen/bWLwgP.css'])\n"
   ]
  },
  {
   "cell_type": "code",
   "execution_count": 10,
   "metadata": {},
   "outputs": [],
   "source": [
    "# app.layout = html.Div([\n",
    "\n",
    "\n",
    "#     html.Div([\n",
    "\n",
    "#     html.Div([\n",
    "#     html.H1(\"FOOTBALL PLAYERS compare\"),\n",
    "#     html.Hr(),\n",
    "#     ], style={'height': '100px','width': '1450px', 'text-align': 'center'}),\n",
    "\n",
    "\n",
    "#     html.Div([\n",
    "\n",
    "#     html.Div([\n",
    "#     html.P(\"Choose a Player:\"),\n",
    "#     dcc.Dropdown(\n",
    "#         id=\"dropdown_1\",\n",
    "#         options=[\n",
    "#             {'label': x, 'value': x}\n",
    "#             for x in df['short_name']\n",
    "#         ],\n",
    "#         value='M. Salah',\n",
    "#         clearable=False,\n",
    "#     )], style={'height': '100px', 'width': '200px', \"float\":\"left\"}),\n",
    "#     ], style={'height': '100px', 'width': '450px', \"float\":\"left\"}),\n",
    "\n",
    "#     html.Div([\n",
    "#     html.Img(src='/assets/333.png',  width=\"300\" , height=\"300\")], style={\"width\": \"50px\", \"height\":\"500px\"}),\n",
    "\n",
    "#     html.Center([\n",
    "#     dcc.Graph(id='graph', figure=fig)\n",
    "#     ], style={'height': '50px', 'width': '40%', \"float\":\"right\"}),\n",
    "\n",
    "\n",
    "#     html.Div([\n",
    "#     html.P(\"Choose a Player:\"),\n",
    "#     dcc.Dropdown(\n",
    "#         id=\"dropdown_2\",\n",
    "#         options=[\n",
    "#             {'label': x, 'value': x}\n",
    "#             for x in df['short_name']\n",
    "#         ],\n",
    "#         value=df['short_name'][1],\n",
    "#         clearable=False,\n",
    "#     )], style={'height': '100px', 'width': '200px', \"float\":\"right\"}),\n",
    "\n",
    "\n",
    "#     ]),\n",
    "#     html.Div([], style={\"width\": \"500px\", \"float\":\"left\", \"height\":\"500px\"}),\n",
    "\n",
    "#     html.Center([\n",
    "#     html.Img(src='/assets/2-removebg.png',  width=\"300\" , height=\"300\")], style={\"width\": \"400px\", \"float\":\"left\", \"height\":\"100px\"}),\n",
    "\n",
    "\n",
    "   \n",
    "# ])"
   ]
  },
  {
   "cell_type": "code",
   "execution_count": 11,
   "metadata": {},
   "outputs": [],
   "source": [
    "app.layout = html.Div([\n",
    "\n",
    "\n",
    "    html.Div([\n",
    "\n",
    "    html.Div([\n",
    "    html.H1(\"FOOTBALL PLAYERS comparison\"),\n",
    "    html.Hr(),\n",
    "    ], style={'height': '100px','width': '1450px', 'text-align': 'center'}),\n",
    "\n",
    "\n",
    "html.Div([\n",
    "\n",
    "    \n",
    "\n",
    "    html.Div([\n",
    "    html.P(\"Choose a Player:\"),\n",
    "    dcc.Dropdown(\n",
    "        id=\"dropdown_1\",\n",
    "        options=[\n",
    "            {'label': x, 'value': x}\n",
    "            for x in df['short_name']\n",
    "        ],\n",
    "        value='M. Salah',\n",
    "        clearable=False,\n",
    "    )], className=\"six columns\", style={'height': '100px', 'width': '200px'}),\n",
    "    \n",
    "\n",
    "html.Div([\n",
    "    html.P(\"Choose a Player:\"),\n",
    "    dcc.Dropdown(\n",
    "        id=\"dropdown_2\",\n",
    "        options=[\n",
    "            {'label': x, 'value': x}\n",
    "            for x in df['short_name']\n",
    "        ],\n",
    "        value=df['short_name'][1],\n",
    "        clearable=False,\n",
    "    )], className=\"six columns\", style={'height': '100px', 'width': '200px', \"float\":\"right\"}),\n",
    "\n",
    "\n",
    "    ], className=\"row\"),\n",
    "\n",
    "    ]),\n",
    "\n",
    "    \n",
    "\n",
    "    html.Div([\n",
    "\n",
    "    html.Div([\n",
    "    html.Img(src='/assets/333.png',  width=\"300\" , height=\"300\")], className=\"four columns\"),\n",
    "\n",
    "    html.Div([dcc.Graph(id='graph', figure=fig) ], className=\"four columns\", style={\"background-color\": \"#e9c46a\"}),\n",
    "\n",
    "    html.Div([\n",
    "    html.Img(src='/assets/2-removebg.png',  width=\"300\" , height=\"300\")], className=\"four columns\", style={'height': '100px', 'width': '300px',\"float\":\"right\"}),\n",
    "\n",
    "    ], className=\"row\"),\n",
    "\n",
    "\n",
    "\n",
    "###################################################\n",
    "\n",
    "html.Div([\n",
    "\n",
    "        html.Div([\n",
    "        html.P(\"Position\"),\n",
    "        html.P(children=\"kkkkkkkkk\",id=\"1\")\n",
    "\n",
    "        ], className=\"two columns\",style={'border': '1px solid', 'padding': '10px',  'box-shadow': '5px 10px 8px 10px #5747ff'}),\n",
    "\n",
    "        html.Div([\n",
    "        html.P(\"Value\"),\n",
    "        html.P(children=\"kkkkkkkkk\",id=\"2\")\n",
    "\n",
    "        ], className=\"two columns\",style={'border': '1px solid', 'padding': '10px',  'box-shadow': '5px 10px 8px 10px #5747ff'}),\n",
    "\n",
    "        html.Div([\n",
    "        html.P(\"Prefer foot\"),\n",
    "        html.P(children=\"kkkkkkkkk\",id=\"3\")\n",
    "\n",
    "        ], className=\"two columns\",style={'border': '1px solid', 'padding': '10px',  'box-shadow': '5px 10px 8px 10px #5747ff'}),\n",
    "\n",
    "\n",
    "        html.Div([\n",
    "        html.P(\"Position\"),\n",
    "        html.P(children=\"kkkkkkkkk\",id=\"4\")\n",
    "\n",
    "        ], className=\"two columns\",style={'border': '1px solid', 'padding': '10px',  'box-shadow': '3px 10px 8px 10px #e83131'}),\n",
    "\n",
    "        html.Div([\n",
    "        html.P(\"Value\"),\n",
    "        html.P(children=\"kkkkkkkkk\",id=\"5\")\n",
    "\n",
    "        ], className=\"two columns\",style={'border': '1px solid', 'padding': '10px',  'box-shadow': '3px 10px 8px 10px #e83131'}),\n",
    "\n",
    "        html.Div([\n",
    "        html.P(\"Prefer foot\"),\n",
    "        html.P(children=\"kkkkkkkkk\",id=\"6\")\n",
    "\n",
    "        ], className=\"two columns\",style={'border': '1px solid', 'padding': '10px',  'box-shadow': '3px 4px 2px 4px #e83131'}),\n",
    "\n",
    "\n",
    "\n",
    "\n",
    "\n",
    "        \n",
    "        \n",
    "        ], className=\"row\"),\n",
    "\n",
    "\n",
    "\n",
    "   \n",
    "], style={\"background-color\": \"#fcfcfc\"})"
   ]
  },
  {
   "cell_type": "code",
   "execution_count": 12,
   "metadata": {},
   "outputs": [
    {
     "name": "stdout",
     "output_type": "stream",
     "text": [
      "Dash is running on http://127.0.0.1:8050/\n",
      "\n",
      " * Serving Flask app \"__main__\" (lazy loading)\n",
      " * Environment: production\n",
      "\u001b[31m   WARNING: This is a development server. Do not use it in a production deployment.\u001b[0m\n",
      "\u001b[2m   Use a production WSGI server instead.\u001b[0m\n",
      " * Debug mode: off\n"
     ]
    },
    {
     "name": "stderr",
     "output_type": "stream",
     "text": [
      " * Running on http://127.0.0.1:8050/ (Press CTRL+C to quit)\n",
      "127.0.0.1 - - [30/Oct/2021 01:36:50] \"\u001b[37mGET / HTTP/1.1\u001b[0m\" 200 -\n",
      "127.0.0.1 - - [30/Oct/2021 01:36:51] \"\u001b[37mGET /_dash-dependencies HTTP/1.1\u001b[0m\" 200 -\n",
      "127.0.0.1 - - [30/Oct/2021 01:36:51] \"\u001b[37mGET /_dash-layout HTTP/1.1\u001b[0m\" 200 -\n",
      "127.0.0.1 - - [30/Oct/2021 01:36:51] \"\u001b[37mGET /_dash-component-suites/dash/dcc/async-dropdown.js HTTP/1.1\u001b[0m\" 200 -\n",
      "127.0.0.1 - - [30/Oct/2021 01:36:51] \"\u001b[37mGET /_dash-component-suites/dash/dcc/async-graph.js HTTP/1.1\u001b[0m\" 200 -\n",
      "127.0.0.1 - - [30/Oct/2021 01:36:51] \"\u001b[37mGET /_dash-component-suites/dash/dcc/async-plotlyjs.js HTTP/1.1\u001b[0m\" 200 -\n",
      "127.0.0.1 - - [30/Oct/2021 01:36:51] \"\u001b[37mPOST /_dash-update-component HTTP/1.1\u001b[0m\" 200 -\n",
      "127.0.0.1 - - [30/Oct/2021 01:36:51] \"\u001b[37mPOST /_dash-update-component HTTP/1.1\u001b[0m\" 200 -\n",
      "127.0.0.1 - - [30/Oct/2021 01:37:07] \"\u001b[37mPOST /_dash-update-component HTTP/1.1\u001b[0m\" 200 -\n",
      "127.0.0.1 - - [30/Oct/2021 01:37:07] \"\u001b[37mPOST /_dash-update-component HTTP/1.1\u001b[0m\" 200 -\n",
      "127.0.0.1 - - [30/Oct/2021 01:37:12] \"\u001b[37mPOST /_dash-update-component HTTP/1.1\u001b[0m\" 200 -\n",
      "127.0.0.1 - - [30/Oct/2021 01:37:12] \"\u001b[37mPOST /_dash-update-component HTTP/1.1\u001b[0m\" 200 -\n",
      "127.0.0.1 - - [30/Oct/2021 01:37:19] \"\u001b[37mPOST /_dash-update-component HTTP/1.1\u001b[0m\" 200 -\n",
      "127.0.0.1 - - [30/Oct/2021 01:37:19] \"\u001b[37mPOST /_dash-update-component HTTP/1.1\u001b[0m\" 200 -\n",
      "127.0.0.1 - - [30/Oct/2021 01:37:26] \"\u001b[37mPOST /_dash-update-component HTTP/1.1\u001b[0m\" 200 -\n",
      "127.0.0.1 - - [30/Oct/2021 01:37:26] \"\u001b[37mPOST /_dash-update-component HTTP/1.1\u001b[0m\" 200 -\n"
     ]
    }
   ],
   "source": [
    "@app.callback(\n",
    "    Output(component_id='graph', component_property='figure'),\n",
    "    Input(component_id='dropdown_1', component_property='value'),\n",
    "    Input(component_id='dropdown_2', component_property='value'),\n",
    "    )\n",
    "def update(player1_name, player2_name):\n",
    "\n",
    "\n",
    "    figuree = draw(player1_name, player2_name)\n",
    "\n",
    "\n",
    "    return figuree\n",
    "\n",
    "@app.callback(\n",
    "    Output(component_id='1', component_property='children'),\n",
    "    Output(component_id='2', component_property='children'),\n",
    "    Output(component_id='3', component_property='children'),\n",
    "    Output(component_id='4', component_property='children'),\n",
    "    Output(component_id='5', component_property='children'),\n",
    "    Output(component_id='6', component_property='children'),\n",
    "    Input(component_id='dropdown_1', component_property='value'),\n",
    "    Input(component_id='dropdown_2', component_property='value'),\n",
    "    )\n",
    "def update(player1_name, player2_name):\n",
    "\n",
    "    x1 = df[df[\"short_name\"] == player1_name]['team_position'].values[0]\n",
    "\n",
    "    y1 = df[df[\"short_name\"] == player1_name]['value_eur'].values[0]\n",
    "\n",
    "    z1 = df[df[\"short_name\"] == player1_name]['preferred_foot'].values[0]\n",
    "\n",
    "    x2 = df[df[\"short_name\"] == player2_name]['team_position'].values[0]\n",
    "\n",
    "    y2 = df[df[\"short_name\"] == player2_name]['value_eur'].values[0]\n",
    "\n",
    "    z2 = df[df[\"short_name\"] == player2_name]['preferred_foot'].values[0]\n",
    "\n",
    "    return x1, y1, z1, x2, y2, z2\n",
    "\n",
    "app.run_server()"
   ]
  },
  {
   "cell_type": "markdown",
   "metadata": {},
   "source": []
  },
  {
   "cell_type": "code",
   "execution_count": null,
   "metadata": {},
   "outputs": [
    {
     "data": {
      "text/plain": [
       "'Right'"
      ]
     },
     "execution_count": 24,
     "metadata": {},
     "output_type": "execute_result"
    }
   ],
   "source": [
    "df[df[\"short_name\"] == \"Cristiano Ronaldo\"]['preferred_foot'].values[0]"
   ]
  },
  {
   "cell_type": "code",
   "execution_count": null,
   "metadata": {},
   "outputs": [],
   "source": []
  }
 ],
 "metadata": {
  "interpreter": {
   "hash": "a42f6302e3d23d3668f2d0b7977f0ef8f0daff6581f6ad2246fcb645f18ded80"
  },
  "kernelspec": {
   "display_name": "Python 3.8.8 64-bit ('base': conda)",
   "name": "python3"
  },
  "language_info": {
   "codemirror_mode": {
    "name": "ipython",
    "version": 3
   },
   "file_extension": ".py",
   "mimetype": "text/x-python",
   "name": "python",
   "nbconvert_exporter": "python",
   "pygments_lexer": "ipython3",
   "version": "3.8.8"
  },
  "orig_nbformat": 4
 },
 "nbformat": 4,
 "nbformat_minor": 2
}
